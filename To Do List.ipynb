{
 "cells": [
  {
   "cell_type": "code",
   "execution_count": 12,
   "metadata": {},
   "outputs": [
    {
     "name": "stdout",
     "output_type": "stream",
     "text": [
      "{'Complete python project': 'In progress', 'Read chapter-3': 'To do', 'Exercise for 30 minutes': 'Done', 'Clean my room': 'To do'}\n",
      "task deleted\n",
      "{'Read chapter-3': 'To do', 'Exercise for 30 minutes': 'Done', 'Clean my room': 'To do'}\n"
     ]
    }
   ],
   "source": [
    "tasks = {\n",
    "    \"Complete python project\": \"In progress\",\n",
    "    \"Read chapter-3\": \"To do\",\n",
    "    \"Exercise for 30 minutes\": \"Done\",\n",
    "    \"Clean my room\": \"To do\",\n",
    "}\n",
    "\n",
    "value = input(\"Enter your action (View/Add/Update/Delete Tasks): \")\n",
    "match value:\n",
    "    case \"View\":\n",
    "        print(tasks)\n",
    "    case \"Add\":\n",
    "      task = input(\"Enter new task: \")\n",
    "      tasks[task] = \"To do\"\n",
    "      print(\"Task added.\")\n",
    "      print(tasks)\n",
    "    case \"Update\":\n",
    "        print(tasks)\n",
    "        task = input(\"Enter task to update: \")\n",
    "        if task in tasks : \n",
    "            tasks[task] = input(\"Enter new description (To do/In progress/Done): \") \n",
    "        else:\n",
    "            print(\"Task not found.\")\n",
    "        print(tasks)\n",
    "    case \"Delete\":\n",
    "        print(tasks)\n",
    "        task = input(\"Enter task to delete: \")\n",
    "        a=tasks.pop(task,None)\n",
    "        if a is None:\n",
    "            print(\"task not Found\")\n",
    "        else:\n",
    "            print(\"task deleted\")\n",
    "        print(tasks)\n"
   ]
  }
 ],
 "metadata": {
  "kernelspec": {
   "display_name": "Python 3",
   "language": "python",
   "name": "python3"
  },
  "language_info": {
   "codemirror_mode": {
    "name": "ipython",
    "version": 3
   },
   "file_extension": ".py",
   "mimetype": "text/x-python",
   "name": "python",
   "nbconvert_exporter": "python",
   "pygments_lexer": "ipython3",
   "version": "3.10.11"
  }
 },
 "nbformat": 4,
 "nbformat_minor": 2
}
